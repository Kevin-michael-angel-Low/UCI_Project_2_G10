{
 "cells": [
  {
   "cell_type": "code",
   "execution_count": 24,
   "metadata": {},
   "outputs": [
    {
     "name": "stdout",
     "output_type": "stream",
     "text": [
      "Requirement already satisfied: psycopg2 in c:\\users\\kevin\\anaconda3\\lib\\site-packages (2.8.6)\n"
     ]
    }
   ],
   "source": [
    "import pandas as pd\n",
    "from sqlalchemy import create_engine\n",
    "!pip install psycopg2"
   ]
  },
  {
   "cell_type": "code",
   "execution_count": 25,
   "metadata": {},
   "outputs": [],
   "source": [
    "csv_file = \"clean_data.csv\"\n",
    "covid_df = pd.read_csv(csv_file)"
   ]
  },
  {
   "cell_type": "code",
   "execution_count": 26,
   "metadata": {
    "scrolled": true
   },
   "outputs": [
    {
     "data": {
      "text/html": [
       "<div>\n",
       "<style scoped>\n",
       "    .dataframe tbody tr th:only-of-type {\n",
       "        vertical-align: middle;\n",
       "    }\n",
       "\n",
       "    .dataframe tbody tr th {\n",
       "        vertical-align: top;\n",
       "    }\n",
       "\n",
       "    .dataframe thead th {\n",
       "        text-align: right;\n",
       "    }\n",
       "</style>\n",
       "<table border=\"1\" class=\"dataframe\">\n",
       "  <thead>\n",
       "    <tr style=\"text-align: right;\">\n",
       "      <th></th>\n",
       "      <th>week_data_collected</th>\n",
       "      <th>state</th>\n",
       "      <th>zip</th>\n",
       "      <th>hospital_name</th>\n",
       "      <th>city</th>\n",
       "      <th>total_beds_available</th>\n",
       "      <th>total_covid_patients</th>\n",
       "      <th>total_beds_in_use</th>\n",
       "      <th>percent_covid_patients</th>\n",
       "      <th>percent_capacity_full</th>\n",
       "      <th>latitude</th>\n",
       "      <th>longitude</th>\n",
       "    </tr>\n",
       "  </thead>\n",
       "  <tbody>\n",
       "    <tr>\n",
       "      <th>0</th>\n",
       "      <td>1/1/2021</td>\n",
       "      <td>CA</td>\n",
       "      <td>94588.0</td>\n",
       "      <td>STANFORD HEALTH CARE - VALLEYCARE</td>\n",
       "      <td>PLEASANTON</td>\n",
       "      <td>93.4</td>\n",
       "      <td>29.7</td>\n",
       "      <td>93.4</td>\n",
       "      <td>0.32</td>\n",
       "      <td>1.0</td>\n",
       "      <td>37.68973</td>\n",
       "      <td>-121.89244</td>\n",
       "    </tr>\n",
       "    <tr>\n",
       "      <th>1</th>\n",
       "      <td>12/25/2020</td>\n",
       "      <td>CA</td>\n",
       "      <td>94588.0</td>\n",
       "      <td>STANFORD HEALTH CARE - VALLEYCARE</td>\n",
       "      <td>PLEASANTON</td>\n",
       "      <td>100.6</td>\n",
       "      <td>32.0</td>\n",
       "      <td>100.6</td>\n",
       "      <td>0.32</td>\n",
       "      <td>1.0</td>\n",
       "      <td>37.68973</td>\n",
       "      <td>-121.89244</td>\n",
       "    </tr>\n",
       "    <tr>\n",
       "      <th>2</th>\n",
       "      <td>12/18/2020</td>\n",
       "      <td>CA</td>\n",
       "      <td>94588.0</td>\n",
       "      <td>STANFORD HEALTH CARE - VALLEYCARE</td>\n",
       "      <td>PLEASANTON</td>\n",
       "      <td>106.1</td>\n",
       "      <td>27.1</td>\n",
       "      <td>106.1</td>\n",
       "      <td>0.26</td>\n",
       "      <td>1.0</td>\n",
       "      <td>37.68973</td>\n",
       "      <td>-121.89244</td>\n",
       "    </tr>\n",
       "    <tr>\n",
       "      <th>3</th>\n",
       "      <td>12/11/2020</td>\n",
       "      <td>CA</td>\n",
       "      <td>94588.0</td>\n",
       "      <td>STANFORD HEALTH CARE - VALLEYCARE</td>\n",
       "      <td>PLEASANTON</td>\n",
       "      <td>106.9</td>\n",
       "      <td>23.0</td>\n",
       "      <td>106.9</td>\n",
       "      <td>0.22</td>\n",
       "      <td>1.0</td>\n",
       "      <td>37.68973</td>\n",
       "      <td>-121.89244</td>\n",
       "    </tr>\n",
       "    <tr>\n",
       "      <th>4</th>\n",
       "      <td>12/4/2020</td>\n",
       "      <td>CA</td>\n",
       "      <td>94588.0</td>\n",
       "      <td>STANFORD HEALTH CARE - VALLEYCARE</td>\n",
       "      <td>PLEASANTON</td>\n",
       "      <td>93.7</td>\n",
       "      <td>14.1</td>\n",
       "      <td>93.7</td>\n",
       "      <td>0.15</td>\n",
       "      <td>1.0</td>\n",
       "      <td>37.68973</td>\n",
       "      <td>-121.89244</td>\n",
       "    </tr>\n",
       "  </tbody>\n",
       "</table>\n",
       "</div>"
      ],
      "text/plain": [
       "  week_data_collected state      zip                      hospital_name  \\\n",
       "0            1/1/2021    CA  94588.0  STANFORD HEALTH CARE - VALLEYCARE   \n",
       "1          12/25/2020    CA  94588.0  STANFORD HEALTH CARE - VALLEYCARE   \n",
       "2          12/18/2020    CA  94588.0  STANFORD HEALTH CARE - VALLEYCARE   \n",
       "3          12/11/2020    CA  94588.0  STANFORD HEALTH CARE - VALLEYCARE   \n",
       "4           12/4/2020    CA  94588.0  STANFORD HEALTH CARE - VALLEYCARE   \n",
       "\n",
       "         city  total_beds_available  total_covid_patients  total_beds_in_use  \\\n",
       "0  PLEASANTON                  93.4                  29.7               93.4   \n",
       "1  PLEASANTON                 100.6                  32.0              100.6   \n",
       "2  PLEASANTON                 106.1                  27.1              106.1   \n",
       "3  PLEASANTON                 106.9                  23.0              106.9   \n",
       "4  PLEASANTON                  93.7                  14.1               93.7   \n",
       "\n",
       "   percent_covid_patients  percent_capacity_full  latitude  longitude  \n",
       "0                    0.32                    1.0  37.68973 -121.89244  \n",
       "1                    0.32                    1.0  37.68973 -121.89244  \n",
       "2                    0.26                    1.0  37.68973 -121.89244  \n",
       "3                    0.22                    1.0  37.68973 -121.89244  \n",
       "4                    0.15                    1.0  37.68973 -121.89244  "
      ]
     },
     "execution_count": 26,
     "metadata": {},
     "output_type": "execute_result"
    }
   ],
   "source": [
    "covid_df = covid_df.drop(columns = ['Unnamed: 0'])\n",
    "covid_df = covid_df.rename(columns={\"Week_Data_Collected\": \"week_data_collected\",\n",
    "                                    \"State\":\"state\",\n",
    "                                    \"Zip\":\"zip\",\n",
    "                                    \"Hosptial_Name\":\"hospital_name\",\n",
    "                                    \"City\":\"city\",\n",
    "                                    \"Total_Beds_Available\":\"total_beds_available\",\n",
    "                                    \"Total_Covid_Patients\":\"total_covid_patients\",\n",
    "                                    \"Total_Beds_in_Use\":\"total_beds_in_use\",\n",
    "                                    \"Percent_Covid_Patients\":\"percent_covid_patients\",\n",
    "                                    \"Percent_Capacity_Full\":\"percent_capacity_full\",\n",
    "                                    \"Latitude\": \"latitude\",\n",
    "                                    \"Longitude\":\"longitude\",\n",
    "                                    \"Percent Covid Patients\":\"percent_covid_patients\",\n",
    "                                   \"Percent Capacity Full\": \"percent_capacity_full\"})\n",
    "covid_df.head()"
   ]
  },
  {
   "cell_type": "code",
   "execution_count": 27,
   "metadata": {},
   "outputs": [],
   "source": [
    "rds_connection_string = \"postgres:postgres@localhost:5432/project2_db\"\n",
    "engine = create_engine(f'postgresql://{rds_connection_string}')"
   ]
  },
  {
   "cell_type": "code",
   "execution_count": 28,
   "metadata": {},
   "outputs": [
    {
     "data": {
      "text/plain": [
       "['covid_data']"
      ]
     },
     "execution_count": 28,
     "metadata": {},
     "output_type": "execute_result"
    }
   ],
   "source": [
    "engine.table_names()"
   ]
  },
  {
   "cell_type": "code",
   "execution_count": 29,
   "metadata": {},
   "outputs": [],
   "source": [
    "covid_df.to_sql(name='covid_data', con=engine, if_exists='append', index=False)"
   ]
  },
  {
   "cell_type": "code",
   "execution_count": null,
   "metadata": {},
   "outputs": [],
   "source": []
  }
 ],
 "metadata": {
  "kernelspec": {
   "display_name": "Python 3",
   "language": "python",
   "name": "python3"
  },
  "language_info": {
   "codemirror_mode": {
    "name": "ipython",
    "version": 3
   },
   "file_extension": ".py",
   "mimetype": "text/x-python",
   "name": "python",
   "nbconvert_exporter": "python",
   "pygments_lexer": "ipython3",
   "version": "3.8.5"
  }
 },
 "nbformat": 4,
 "nbformat_minor": 4
}
